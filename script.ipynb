{
 "cells": [
  {
   "cell_type": "markdown",
   "metadata": {},
   "source": [
    " Import Data"
   ]
  },
  {
   "cell_type": "code",
   "execution_count": 2,
   "metadata": {},
   "outputs": [
    {
     "name": "stdout",
     "output_type": "stream",
     "text": [
      "   Unnamed: 0    guest  discount\n",
      "0           0  guest_1      0.09\n",
      "1           1  guest_2      0.00\n",
      "2           2  guest_3      0.07\n",
      "3           3  guest_4      0.00\n",
      "4           4  guest_5      0.10\n",
      "   Unnamed: 0    hotel  rooms  price\n",
      "0           0  hotel_1     13    273\n",
      "1           1  hotel_2     18     92\n",
      "2           2  hotel_3     12    141\n",
      "3           3  hotel_4     18    157\n",
      "4           4  hotel_5      7    298\n",
      "   Unnamed: 0    guest      hotel  priority\n",
      "0           0  guest_1  hotel_168         1\n",
      "1           1  guest_1  hotel_207         2\n",
      "2           2  guest_1  hotel_222         3\n",
      "3           3  guest_1  hotel_124         4\n",
      "4           4  guest_1  hotel_223         5\n"
     ]
    }
   ],
   "source": [
    "import pandas as pd\n",
    "\n",
    "guests_df = pd.read_excel('dataset/guests.xlsx')\n",
    "hotels_df = pd.read_excel('dataset/hotels.xlsx')\n",
    "preferences_df = pd.read_excel('dataset/preferences.xlsx')\n",
    "\n",
    "print(guests_df.head())\n",
    "print(hotels_df.head())\n",
    "print(preferences_df.head())"
   ]
  },
  {
   "cell_type": "code",
   "execution_count": 5,
   "metadata": {},
   "outputs": [
    {
     "name": "stdout",
     "output_type": "stream",
     "text": [
      "         rooms  price\n",
      "hotel                \n",
      "hotel_1     13    273\n",
      "hotel_2     18     92\n",
      "hotel_3     12    141\n",
      "hotel_4     18    157\n",
      "hotel_5      7    298\n",
      "         discount\n",
      "guest            \n",
      "guest_1      0.09\n",
      "guest_2      0.00\n",
      "guest_3      0.07\n",
      "guest_4      0.00\n",
      "guest_5      0.10\n",
      "                      hotel\n",
      "guest   priority           \n",
      "guest_1 1         hotel_168\n",
      "        2         hotel_207\n",
      "        3         hotel_222\n",
      "        4         hotel_124\n",
      "        5         hotel_223\n"
     ]
    }
   ],
   "source": [
    "hotels = hotels_df[['hotel', 'rooms', 'price']].set_index('hotel')\n",
    "guests = guests_df[['guest', 'discount']].set_index('guest')\n",
    "preferences = preferences_df[['guest','hotel','priority']].set_index(['guest','priority'])\n",
    "\n",
    "print(hotels.head())\n",
    "print(guests.head())\n",
    "print(preferences.head())"
   ]
  }
 ],
 "metadata": {
  "kernelspec": {
   "display_name": "Python 3",
   "language": "python",
   "name": "python3"
  },
  "language_info": {
   "codemirror_mode": {
    "name": "ipython",
    "version": 3
   },
   "file_extension": ".py",
   "mimetype": "text/x-python",
   "name": "python",
   "nbconvert_exporter": "python",
   "pygments_lexer": "ipython3",
   "version": "3.12.6"
  }
 },
 "nbformat": 4,
 "nbformat_minor": 2
}
