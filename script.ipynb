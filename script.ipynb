{
 "cells": [
  {
   "cell_type": "code",
   "execution_count": 3,
   "metadata": {},
   "outputs": [
    {
     "name": "stdout",
     "output_type": "stream",
     "text": [
      "  Country        City  AccentCity Region  Population   Latitude  Longitude\n",
      "0      ad       aixas       Aixàs     06         NaN  42.483333   1.466667\n",
      "1      ad  aixirivali  Aixirivali     06         NaN  42.466667   1.500000\n",
      "2      ad  aixirivall  Aixirivall     06         NaN  42.466667   1.500000\n",
      "3      ad   aixirvall   Aixirvall     06         NaN  42.466667   1.500000\n",
      "4      ad    aixovall    Aixovall     06         NaN  42.466667   1.483333\n"
     ]
    }
   ],
   "source": [
    "import pandas as pd\n",
    "cities_df=pd.read_csv('dataset/worldcitiespop.csv', low_memory=False)\n",
    "print(cities_df.head())"
   ]
  }
 ],
 "metadata": {
  "kernelspec": {
   "display_name": "Python 3",
   "language": "python",
   "name": "python3"
  },
  "language_info": {
   "codemirror_mode": {
    "name": "ipython",
    "version": 3
   },
   "file_extension": ".py",
   "mimetype": "text/x-python",
   "name": "python",
   "nbconvert_exporter": "python",
   "pygments_lexer": "ipython3",
   "version": "3.12.6"
  }
 },
 "nbformat": 4,
 "nbformat_minor": 2
}
